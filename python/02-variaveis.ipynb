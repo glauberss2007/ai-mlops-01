{
 "cells": [
  {
   "cell_type": "markdown",
   "id": "94dc60fd",
   "metadata": {},
   "source": [
    "## Variaveis"
   ]
  },
  {
   "cell_type": "code",
   "execution_count": 1,
   "id": "474bf451",
   "metadata": {},
   "outputs": [
    {
     "name": "stdout",
     "output_type": "stream",
     "text": [
      "Idade: 32\n",
      "Altura: 6.1\n",
      "Nome: Glauber\n"
     ]
    }
   ],
   "source": [
    "## Declarando e atribuindo as variaveis\n",
    "a = 100\n",
    "\n",
    "idade = 32\n",
    "altura = 6.1\n",
    "nome = \"Glauber\"\n",
    "is_estudante = True\n",
    "\n",
    "print(\"Idade:\", idade)\n",
    "print(\"Altura:\", altura)\n",
    "print(\"Nome:\", nome)"
   ]
  },
  {
   "cell_type": "code",
   "execution_count": null,
   "id": "bafc4fa0",
   "metadata": {},
   "outputs": [],
   "source": [
    "## Nomes invalidos\n",
    "2idade = 30\n",
    "primeiro-nome = \"Glauber\"\n",
    "@nome = \"Santos\""
   ]
  },
  {
   "cell_type": "code",
   "execution_count": null,
   "id": "16a0c1fe",
   "metadata": {},
   "outputs": [],
   "source": [
    "## Tipo é determinado em tempo de execução\n",
    "age=25 #int\n",
    "height=6.1 #float\n",
    "name=\"KRish\" #str\n",
    "is_student=True #bool\n",
    "\n",
    "print(type(name))\n",
    "\n",
    "type(height)\n",
    "\n"
   ]
  },
  {
   "cell_type": "code",
   "execution_count": null,
   "id": "3df01f7c",
   "metadata": {},
   "outputs": [],
   "source": [
    "## Conversão de tipos\n",
    "age=25\n",
    "print(type(age))\n",
    "\n",
    "# Type conversion\n",
    "age_str=str(age)\n",
    "print(age_str)\n",
    "print(type(age_str))"
   ]
  },
  {
   "cell_type": "code",
   "execution_count": null,
   "id": "ff29d4d5",
   "metadata": {},
   "outputs": [],
   "source": [
    "age='25'\n",
    "print(type(int(age)))"
   ]
  },
  {
   "cell_type": "code",
   "execution_count": null,
   "id": "c43e2ed4",
   "metadata": {},
   "outputs": [],
   "source": [
    "## Mudança de tipo durante o programa\n",
    "var=10 #int\n",
    "print(var,type(var))\n",
    "\n",
    "var=\"Hello\"\n",
    "print(var,type(var))\n",
    "\n",
    "var=3.14\n",
    "print(var,type(var))"
   ]
  },
  {
   "cell_type": "code",
   "execution_count": null,
   "id": "156312d1",
   "metadata": {},
   "outputs": [],
   "source": [
    "## Entrada\n",
    "age=int(input(\"What is the age\"))\n",
    "print(age,type(age))"
   ]
  },
  {
   "cell_type": "code",
   "execution_count": null,
   "id": "e8896170",
   "metadata": {},
   "outputs": [],
   "source": [
    "## Calculadorinha\n",
    "### Simple calculator\n",
    "num1 = float(input(\"Enter first number: \"))\n",
    "num2 = float(input(\"Enter second number: \"))\n",
    "\n",
    "sum = num1 + num2\n",
    "difference = num1 - num2\n",
    "product = num1 * num2\n",
    "quotient = num1 / num2\n",
    "\n",
    "print(\"Sum:\", sum)\n",
    "print(\"Difference:\", difference)\n",
    "print(\"Product:\", product)\n",
    "print(\"Quotient:\", quotient)"
   ]
  }
 ],
 "metadata": {
  "kernelspec": {
   "display_name": "Python 3",
   "language": "python",
   "name": "python3"
  },
  "language_info": {
   "codemirror_mode": {
    "name": "ipython",
    "version": 3
   },
   "file_extension": ".py",
   "mimetype": "text/x-python",
   "name": "python",
   "nbconvert_exporter": "python",
   "pygments_lexer": "ipython3",
   "version": "3.12.11"
  }
 },
 "nbformat": 4,
 "nbformat_minor": 5
}
