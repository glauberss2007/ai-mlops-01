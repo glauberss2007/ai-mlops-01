{
 "cells": [
  {
   "cell_type": "code",
   "execution_count": null,
   "id": "437f1116",
   "metadata": {},
   "outputs": [],
   "source": [
    "## inteiro\n",
    "age=35\n",
    "type(age)"
   ]
  },
  {
   "cell_type": "code",
   "execution_count": null,
   "id": "22ac7dd6",
   "metadata": {},
   "outputs": [],
   "source": [
    "## Ponto flutuante\n",
    "height=5.11\n",
    "print(height)\n",
    "print(type(height))"
   ]
  },
  {
   "cell_type": "code",
   "execution_count": null,
   "id": "1a81f2b4",
   "metadata": {},
   "outputs": [],
   "source": [
    "## string \n",
    "name=\"Krish\"\n",
    "print(name)\n",
    "print(type(name))"
   ]
  },
  {
   "cell_type": "code",
   "execution_count": null,
   "id": "5bf0d5d9",
   "metadata": {},
   "outputs": [],
   "source": [
    "## boolean\n",
    "is_true=True\n",
    "type(is_true)"
   ]
  },
  {
   "cell_type": "code",
   "execution_count": null,
   "id": "912ea8de",
   "metadata": {},
   "outputs": [],
   "source": [
    "a=10\n",
    "b=10\n",
    "\n",
    "type(a==b)"
   ]
  },
  {
   "cell_type": "code",
   "execution_count": null,
   "id": "bde86f6d",
   "metadata": {},
   "outputs": [],
   "source": [
    "## Erro comum\n",
    "result=\"Hello\" + 5"
   ]
  },
  {
   "cell_type": "code",
   "execution_count": null,
   "id": "6f0e3712",
   "metadata": {},
   "outputs": [],
   "source": [
    "result=\"Hello\" + str(5)\n",
    "print(result)"
   ]
  }
 ],
 "metadata": {
  "language_info": {
   "name": "python"
  }
 },
 "nbformat": 4,
 "nbformat_minor": 5
}
