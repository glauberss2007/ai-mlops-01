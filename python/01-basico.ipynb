{
 "cells": [
  {
   "cell_type": "markdown",
   "id": "7e17689f",
   "metadata": {},
   "source": [
    "## Um pouco da Sintaxe e da Semantica"
   ]
  },
  {
   "cell_type": "code",
   "execution_count": 1,
   "id": "2b4c1e91",
   "metadata": {},
   "outputs": [
    {
     "name": "stdout",
     "output_type": "stream",
     "text": [
      "Glauber\n",
      "João\n"
     ]
    }
   ],
   "source": [
    "## Sintaxe basica, regras e demonstração do case sensitive\n",
    "name = \"Glauber\"\n",
    "Name = \"João\"\n",
    "\n",
    "print(name)\n",
    "print(Name)"
   ]
  },
  {
   "cell_type": "markdown",
   "id": "19b13be1",
   "metadata": {},
   "source": [
    "## Identação é importante!"
   ]
  },
  {
   "cell_type": "code",
   "execution_count": 2,
   "id": "230e10a4",
   "metadata": {},
   "outputs": [
    {
     "name": "stdout",
     "output_type": "stream",
     "text": [
      "37\n",
      "37\n"
     ]
    }
   ],
   "source": [
    "## Identação baseada em tab para definir os blocos de codigos\n",
    "idade = 37\n",
    "if idade > 30:\n",
    "    print(idade)\n",
    "print(idade)"
   ]
  },
  {
   "cell_type": "code",
   "execution_count": 3,
   "id": "0512b166",
   "metadata": {},
   "outputs": [
    {
     "name": "stdout",
     "output_type": "stream",
     "text": [
      "Olá mundo\n"
     ]
    }
   ],
   "source": [
    "## Linha simples\n",
    "print(\"Olá mundo\")"
   ]
  },
  {
   "cell_type": "code",
   "execution_count": 4,
   "id": "2d44de1f",
   "metadata": {},
   "outputs": [
    {
     "name": "stdout",
     "output_type": "stream",
     "text": [
      "28\n"
     ]
    }
   ],
   "source": [
    "## Utilize o simbolo de barra a esquerda para quebrar o codigo e continuar na outra linha\n",
    "total = 1+2+3+4+\\\n",
    "5+6+7\n",
    "\n",
    "print(total)"
   ]
  },
  {
   "cell_type": "code",
   "execution_count": 5,
   "id": "e33eedda",
   "metadata": {},
   "outputs": [
    {
     "name": "stdout",
     "output_type": "stream",
     "text": [
      "4\n"
     ]
    }
   ],
   "source": [
    "## Multiplas sentenças em uma mesma linha atraves do ponto e virgula\n",
    "x=5;y=3;z=4\n",
    "print(z)"
   ]
  },
  {
   "cell_type": "code",
   "execution_count": 7,
   "id": "96197752",
   "metadata": {},
   "outputs": [
    {
     "data": {
      "text/plain": [
       "str"
      ]
     },
     "execution_count": 7,
     "metadata": {},
     "output_type": "execute_result"
    }
   ],
   "source": [
    "## Semantica e tipos de variaveis\n",
    "idade = 15\n",
    "nome = \"Glauber\"\n",
    "\n",
    "type(idade)\n",
    "type(nome)"
   ]
  },
  {
   "cell_type": "code",
   "execution_count": 6,
   "id": "5bf24fc8",
   "metadata": {},
   "outputs": [
    {
     "ename": "NameError",
     "evalue": "name 'b' is not defined",
     "output_type": "error",
     "traceback": [
      "\u001b[31m---------------------------------------------------------------------------\u001b[39m",
      "\u001b[31mNameError\u001b[39m                                 Traceback (most recent call last)",
      "\u001b[36mCell\u001b[39m\u001b[36m \u001b[39m\u001b[32mIn[6]\u001b[39m\u001b[32m, line 2\u001b[39m\n\u001b[32m      1\u001b[39m \u001b[38;5;66;03m## Erro na inicialização\u001b[39;00m\n\u001b[32m----> \u001b[39m\u001b[32m2\u001b[39m a = \u001b[43mb\u001b[49m \u001b[38;5;66;03m##b não é definido ou seja não é string e tem int, etc...\u001b[39;00m\n",
      "\u001b[31mNameError\u001b[39m: name 'b' is not defined"
     ]
    }
   ],
   "source": [
    "## Erro na inicialização\n",
    "a = b ##b não é definido ou seja não é string e tem int, etc..."
   ]
  },
  {
   "cell_type": "code",
   "execution_count": 8,
   "id": "964ee9e3",
   "metadata": {},
   "outputs": [
    {
     "name": "stdout",
     "output_type": "stream",
     "text": [
      "Identação correta\n",
      "Isto vai printar\n",
      "Isto nao vai printar\n"
     ]
    }
   ],
   "source": [
    "## Identação\n",
    "if True:\n",
    "    print(\"Identação correta\")\n",
    "    if False:\n",
    "        print(\"Isto nao vai imprimir\")\n",
    "    print(\"Isto vai printar\")\n",
    "print(\"Isto nao vai printar\")"
   ]
  }
 ],
 "metadata": {
  "kernelspec": {
   "display_name": "Python 3",
   "language": "python",
   "name": "python3"
  },
  "language_info": {
   "codemirror_mode": {
    "name": "ipython",
    "version": 3
   },
   "file_extension": ".py",
   "mimetype": "text/x-python",
   "name": "python",
   "nbconvert_exporter": "python",
   "pygments_lexer": "ipython3",
   "version": "3.12.11"
  }
 },
 "nbformat": 4,
 "nbformat_minor": 5
}
