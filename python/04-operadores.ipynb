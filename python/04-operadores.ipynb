{
 "cells": [
  {
   "cell_type": "code",
   "execution_count": null,
   "id": "9f55e084",
   "metadata": {},
   "outputs": [],
   "source": [
    "## Operadores aritmeticos\n",
    "\n",
    "a=10\n",
    "b = 5\n",
    "\n",
    "add_result=a+b  #addiiton\n",
    "sub_result=a-b  #substraction \n",
    "mult_result=a*b #multiplication\n",
    "div_result=a/b  #division\n",
    "floor_div_result=a//b ## floor division\n",
    "modulus_result=a%b #modulus operation\n",
    "\n",
    "exponent_result=a**b ## Exponentiation\n",
    "\n",
    "\n",
    "print(add_result)\n",
    "print(sub_result)\n",
    "print(mult_result)\n",
    "print(div_result)\n",
    "print(floor_div_result)\n",
    "print(modulus_result)\n",
    "print(exponent_result)"
   ]
  },
  {
   "cell_type": "code",
   "execution_count": null,
   "id": "cc651845",
   "metadata": {},
   "outputs": [],
   "source": [
    "## Operador de comparação\n",
    "a=10\n",
    "b=10\n",
    "\n",
    "a==b"
   ]
  },
  {
   "cell_type": "code",
   "execution_count": null,
   "id": "4fba6631",
   "metadata": {},
   "outputs": [],
   "source": [
    "str1=\"Krish\"\n",
    "str2=\"Krish\"\n",
    "\n",
    "str1==str2"
   ]
  },
  {
   "cell_type": "code",
   "execution_count": null,
   "id": "0c6fc731",
   "metadata": {},
   "outputs": [],
   "source": [
    "## Opeador diferente\n",
    "str1!=str2"
   ]
  },
  {
   "cell_type": "code",
   "execution_count": null,
   "id": "47dbe40c",
   "metadata": {},
   "outputs": [],
   "source": [
    "str3=\"Krish\"\n",
    "str4=\"krish\"\n",
    "\n",
    "str3!=str4"
   ]
  },
  {
   "cell_type": "code",
   "execution_count": null,
   "id": "998336f6",
   "metadata": {},
   "outputs": [
    {
     "data": {
      "text/plain": [
       "False"
      ]
     },
     "execution_count": 2,
     "metadata": {},
     "output_type": "execute_result"
    }
   ],
   "source": [
    "## Operados maior e menor\n",
    "\n",
    "num1=45\n",
    "num2=55\n",
    "\n",
    "num1>num2\n",
    "\n",
    "print(num1<num2)\n",
    "\n"
   ]
  },
  {
   "cell_type": "code",
   "execution_count": null,
   "id": "dda9b88c",
   "metadata": {},
   "outputs": [
    {
     "name": "stdout",
     "output_type": "stream",
     "text": [
      "True\n"
     ]
    }
   ],
   "source": [
    "## Opeador maior ou igual menor ou igual\n",
    "number1=45\n",
    "number2=45\n",
    "\n",
    "print(number1>=number2)"
   ]
  },
  {
   "cell_type": "code",
   "execution_count": null,
   "id": "8512a4e0",
   "metadata": {},
   "outputs": [],
   "source": [
    "## Operador logico\n",
    "X=True\n",
    "Y=True\n",
    "\n",
    "result =X and Y\n",
    "print(result)"
   ]
  },
  {
   "cell_type": "code",
   "execution_count": null,
   "id": "bbe16aa5",
   "metadata": {},
   "outputs": [],
   "source": [
    "X=False\n",
    "Y=True\n",
    "\n",
    "result =X and Y\n",
    "print(result)"
   ]
  },
  {
   "cell_type": "code",
   "execution_count": null,
   "id": "8e770007",
   "metadata": {},
   "outputs": [],
   "source": [
    "## OR\n",
    "X=False\n",
    "Y=False\n",
    "\n",
    "result =X or Y\n",
    "print(result)"
   ]
  },
  {
   "cell_type": "code",
   "execution_count": null,
   "id": "89d34603",
   "metadata": {},
   "outputs": [],
   "source": [
    "# Not operator\n",
    "X=False\n",
    "not X"
   ]
  },
  {
   "cell_type": "code",
   "execution_count": null,
   "id": "37e7fff9",
   "metadata": {},
   "outputs": [],
   "source": [
    "## Calculadora\n",
    "num1 = float(input(\"Enter first number: \"))\n",
    "num2 = float(input(\"Enter second number: \"))\n",
    "\n",
    "# Performing arithmetic operations\n",
    "addition = num1 + num2\n",
    "subtraction = num1 - num2\n",
    "multiplication = num1 * num2\n",
    "division = num1 / num2\n",
    "floor_division = num1 // num2\n",
    "modulus = num1 % num2\n",
    "exponentiation = num1 ** num2\n",
    "\n",
    "# Displaying results\n",
    "print(\"Addition:\", addition)\n",
    "print(\"Subtraction:\", subtraction)\n",
    "print(\"Multiplication:\", multiplication)\n",
    "print(\"Division:\", division)\n",
    "print(\"Floor Division:\", floor_division)\n",
    "print(\"Modulus:\", modulus)\n",
    "print(\"Exponentiation:\", exponentiation)"
   ]
  }
 ],
 "metadata": {
  "kernelspec": {
   "display_name": "Python 3",
   "language": "python",
   "name": "python3"
  },
  "language_info": {
   "codemirror_mode": {
    "name": "ipython",
    "version": 3
   },
   "file_extension": ".py",
   "mimetype": "text/x-python",
   "name": "python",
   "nbconvert_exporter": "python",
   "pygments_lexer": "ipython3",
   "version": "3.12.11"
  }
 },
 "nbformat": 4,
 "nbformat_minor": 5
}
